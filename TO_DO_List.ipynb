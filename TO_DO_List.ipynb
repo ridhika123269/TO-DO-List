import ipywidgets as widgets
from IPython.display import display, clear_output

class ToDoListApp:
    def __init__(self):
        self.tasks = []
        self.title = widgets.Label(value="To-Do List App")
        display(self.title)
        self.input_field = widgets.Text(placeholder='Enter a new task')
        display(self.input_field)
        self.button = widgets.Button(description="Add Task")
        self.button.on_click(self.add_task)
        display(self.button)
        self.output = widgets.Output()
        display(self.output)

    def add_task(self, b):
        task = self.input_field.value
        if task:
            self.tasks.append(task)
            self.input_field.value = ''
            self.update_output()

    def update_output(self):
        with self.output:
            clear_output(wait=True)
            print("Tasks:")
            for index, task in enumerate(self.tasks):
                delete_button = widgets.Button(description="Completed")
                delete_button.on_click(lambda b, idx=index: self.delete_task(idx))
                print(f"- {task} ", end="")
                display(delete_button)

    def delete_task(self, index):
        if 0 <= index < len(self.tasks):
            self.tasks.pop(index)
            self.update_output()

app = ToDoListApp()
